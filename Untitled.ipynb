{
 "cells": [
  {
   "cell_type": "markdown",
   "id": "2bbe2e1c",
   "metadata": {},
   "source": [
    "## Задача 1\n",
    "*Когда используется критерий Стьюдента, а когда Z –критерий?*\n",
    "\n",
    "Если у нас условия применимости параметрических тестов соблюдены, то в случае известной сигмы генеральной совокупности более предпочтителен Z- критерий, в противном случае -  критерий Стьюдента t. "
   ]
  },
  {
   "cell_type": "markdown",
   "id": "429b3f0a",
   "metadata": {},
   "source": [
    "## Задача 2\n",
    "\n",
    "Проведите тест гипотезы. Утверждается, что шарики для подшипников, изготовленные автоматическим станком, имеют средний диаметр 17 мм.\n",
    "Используя односторонний критерий с α=0,05, проверить эту гипотезу, если в выборке из n=100 шариков средний диаметр\n",
    "оказался равным 17.5 мм, а дисперсия известна и равна 4 кв. мм."
   ]
  },
  {
   "cell_type": "code",
   "execution_count": 1,
   "id": "98687d8a",
   "metadata": {},
   "outputs": [
    {
     "data": {
      "text/plain": [
       "2.5"
      ]
     },
     "execution_count": 1,
     "metadata": {},
     "output_type": "execute_result"
    }
   ],
   "source": [
    "mu = 17\n",
    "a\n",
    "n=100\n",
    "x=17.5\n",
    "sigma = 2\n",
    "z=(x-mu)/(sigma/n**0.5)\n",
    "z"
   ]
  },
  {
   "cell_type": "markdown",
   "id": "d175e1f9",
   "metadata": {},
   "source": [
    "из таблицы находим Z критическое для 0,95\n",
    "\n",
    "Z = 1.645\n",
    "\n",
    "Так как Z наблюдаемое > Z критического то гипотеза не верна."
   ]
  },
  {
   "cell_type": "markdown",
   "id": "8fa38710",
   "metadata": {},
   "source": [
    "## Задача 3\n",
    "\n",
    "Проведите тест гипотезы. Продавец утверждает, что средний вес пачки печенья составляет 200 г.\n",
    "\n",
    "Из партии извлечена выборка из 10 пачек. Вес каждой пачки составляет:\n",
    "\n",
    "202, 203, 199, 197, 195, 201, 200, 204, 194, 190.\n",
    "\n",
    "Известно, что их веса распределены нормально.\n",
    "\n",
    "Верно ли утверждение продавца, если учитывать, что доверительная вероятность равна 99%? (Провести двусторонний тест.)"
   ]
  },
  {
   "cell_type": "code",
   "execution_count": 4,
   "id": "8f04c7e4",
   "metadata": {},
   "outputs": [
    {
     "data": {
      "text/plain": [
       "-1.0651074037450896"
      ]
     },
     "execution_count": 4,
     "metadata": {},
     "output_type": "execute_result"
    }
   ],
   "source": [
    "import numpy as np\n",
    "x = np.array([202, 203, 199, 197, 195, 201, 200, 204, 194, 190])\n",
    "mean_X = x.mean()\n",
    "std_X = x.std(ddof=1)\n",
    "t_fact = (mean_X - 200) / std_X * np.sqrt(10)\n",
    "t_fact"
   ]
  },
  {
   "cell_type": "markdown",
   "id": "b547fc26",
   "metadata": {},
   "source": [
    "alfa = 0.01\n",
    "\n",
    "ddof  = 9\n",
    "\n",
    "из таблицы t критическое = 3,25\n",
    "\n",
    "|t_fact|< t критическое => продавец не лжет \n"
   ]
  },
  {
   "cell_type": "markdown",
   "id": "a89d54b0",
   "metadata": {},
   "source": [
    "## Задача 4\n",
    "Есть ли статистически значимые различия в росте дочерей?\n",
    "\n",
    "Рост матерей 172, 177, 158, 170, 178,175, 164, 160, 169, 165\n",
    "\n",
    "Рост взрослых дочерей: 173, 175, 162, 174, 175, 168, 155, 170, 160\n"
   ]
  },
  {
   "cell_type": "code",
   "execution_count": 6,
   "id": "16557296",
   "metadata": {},
   "outputs": [
    {
     "data": {
      "text/plain": [
       "Ttest_relResult(statistic=0.08873565094161137, pvalue=0.9314731778513443)"
      ]
     },
     "execution_count": 6,
     "metadata": {},
     "output_type": "execute_result"
    }
   ],
   "source": [
    "import scipy.stats as stats\n",
    "x = np.array([172, 177, 158, 170, 178, 164, 160, 169, 165])\n",
    "y = np.array([173, 175, 162, 174, 175, 168, 155, 170, 160])\n",
    "stats.ttest_rel(x,y)"
   ]
  },
  {
   "cell_type": "markdown",
   "id": "2c6a9cbb",
   "metadata": {},
   "source": [
    "pvalue больше 0,05\n",
    "Статистически значимых различий в росте дочерей нет"
   ]
  },
  {
   "cell_type": "code",
   "execution_count": null,
   "id": "3a0269c6",
   "metadata": {},
   "outputs": [],
   "source": []
  }
 ],
 "metadata": {
  "kernelspec": {
   "display_name": "Python 3 (ipykernel)",
   "language": "python",
   "name": "python3"
  },
  "language_info": {
   "codemirror_mode": {
    "name": "ipython",
    "version": 3
   },
   "file_extension": ".py",
   "mimetype": "text/x-python",
   "name": "python",
   "nbconvert_exporter": "python",
   "pygments_lexer": "ipython3",
   "version": "3.9.13"
  }
 },
 "nbformat": 4,
 "nbformat_minor": 5
}
